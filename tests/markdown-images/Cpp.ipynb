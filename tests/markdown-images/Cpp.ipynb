{
 "cells": [
  {
   "cell_type": "markdown",
   "metadata": {},
   "source": [
    "[![xeus-cling](images/xeus-cling.png)](https://github.com/QuantStack/xeus-cling/)\n",
    "\n",
    "A Jupyter kernel for C++ based on the `cling` C++ interpreter and the `xeus` native implementation of the Jupyter protocol, xeus.\n",
    "\n",
    "- GitHub repository: https://github.com/QuantStack/xeus-cling/\n",
    "- Online documentation: https://xeus-cling.readthedocs.io/"
   ]
  },
  {
   "cell_type": "markdown",
   "metadata": {},
   "source": [
    "## Interactive Widgets\n",
    "\n",
    "[![xwidgets](images/xwidgets.png)](https://github.com/QuantStack/xwidgets/)\n",
    "\n",
    "Jupyter interactive widgets are supported in the xeus-based C++ kernel.\n",
    "\n",
    "- GitHub repository: https://github.com/QuantStack/xwidgets/\n",
    "- Online documentation: https://xwidgets.readthedocs.io/"
   ]
  },
  {
   "cell_type": "code",
   "execution_count": null,
   "metadata": {},
   "outputs": [],
   "source": [
    "//| label: calc\n",
    "2+2"
   ]
  },
  {
   "attachments": {
    "cc.svg": {
     "image/svg+xml": [
      "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"
     ]
    }
   },
   "cell_type": "markdown",
   "metadata": {},
   "source": [
    "An embedded svg image from [Creative Commons](https://creativecommons.org/mission/downloads/).\n",
    "![cc.svg](attachment:cc.svg)"
   ]
  },
  {
   "attachments": {
    "cc.png": {
     "image/png": "[encoded data removed]"
    }
   },
   "cell_type": "markdown",
   "metadata": {},
   "source": [
    "An embedded png image from [Creative Commons](https://creativecommons.org/mission/downloads/).\n",
    "These embedded images can be created by either dropping a file from your file explorer onto a markdown cell (when in edit modus) or by using 'Edit > Insert Image'.\n",
    "![cc.png](attachment:cc.png)"
   ]
  }
 ],
 "metadata": {
  "kernelspec": {
   "display_name": "C++14",
   "language": "C++14",
   "name": "xeus-cling-cpp14"
  },
  "language_info": {
   "codemirror_mode": "text/x-c++src",
   "file_extension": ".cpp",
   "mimetype": "text/x-c++src",
   "name": "c++",
   "version": "-std=c++14"
  }
 },
 "nbformat": 4,
 "nbformat_minor": 4
}
